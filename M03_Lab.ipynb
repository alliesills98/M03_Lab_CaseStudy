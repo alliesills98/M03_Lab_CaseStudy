{
 "cells": [
  {
   "cell_type": "code",
   "execution_count": 1,
   "metadata": {},
   "outputs": [
    {
     "name": "stdout",
     "output_type": "stream",
     "text": [
      "Vehicle type: car\n",
      "Year: 2022\n",
      "Make: Toyota\n",
      "Model: Corolla\n",
      "Number of doors: 4\n",
      "Type of roof: sun roof\n"
     ]
    }
   ],
   "source": [
    "class Vehicle():\n",
    "    def __init__(self, vehicleType):\n",
    "        self.vehicleType = vehicleType\n",
    "    def getVehicleType(self):\n",
    "        self.vehicleType = input(\"Enter vehicle type: \")     \n",
    "    def setVehicleType(self):\n",
    "        print(\"Vehicle type:\", self.vehicleType)\n",
    "class Automobile(Vehicle):\n",
    "    def __init__(self,vehicleType,year,make,model,doors,roof):\n",
    "        super().__init__(vehicleType)\n",
    "        self.year = year\n",
    "        self.make = make\n",
    "        self.model = model\n",
    "        self.doors = doors\n",
    "        self.roof = roof\n",
    "    \n",
    "    def getYear(self):\n",
    "        self.year = (input(\"Enter year of vehicle: \"))\n",
    "    def setYear(self):\n",
    "        print(\"Year:\", self.year)\n",
    "    def getMake(self):\n",
    "        self.make = (input(\"Enter make of vehicle: \"))\n",
    "    def setMake(self):\n",
    "        print(\"Make:\", self.make)\n",
    "    def getModel(self):\n",
    "        self.model = (input(\"Enter vehicle model: \"))\n",
    "    def setModel(self):\n",
    "        print(\"Model:\", self.model)\n",
    "    def getDoors(self):\n",
    "        self.doors = input(\"Enter number of doors: \")\n",
    "    def setDoors(self):\n",
    "        print(\"Number of doors:\", self.doors)\n",
    "    def getRoof(self):\n",
    "        self.roof = input(\"Enter roof type: \")\n",
    "    def setRoof(self):\n",
    "        print(\"Type of roof:\", self.roof)\n",
    "\n",
    "\n",
    "v = Vehicle('')\n",
    "a = Automobile('','','','','','')\n",
    "v.getVehicleType()\n",
    "a.getYear()\n",
    "a.getMake()\n",
    "a.getModel()\n",
    "a.getDoors()\n",
    "a.getRoof()\n",
    "v.setVehicleType()\n",
    "a.setYear()\n",
    "a.setMake()\n",
    "a.setModel()\n",
    "a.setDoors()\n",
    "a.setRoof()"
   ]
  }
 ],
 "metadata": {
  "kernelspec": {
   "display_name": "Python 3",
   "language": "python",
   "name": "python3"
  },
  "language_info": {
   "codemirror_mode": {
    "name": "ipython",
    "version": 3
   },
   "file_extension": ".py",
   "mimetype": "text/x-python",
   "name": "python",
   "nbconvert_exporter": "python",
   "pygments_lexer": "ipython3",
   "version": "3.11.1"
  },
  "orig_nbformat": 4
 },
 "nbformat": 4,
 "nbformat_minor": 2
}
